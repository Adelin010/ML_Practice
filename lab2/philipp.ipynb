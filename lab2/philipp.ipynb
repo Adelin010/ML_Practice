{
 "cells": [
  {
   "cell_type": "code",
   "execution_count": 88,
   "id": "4b09c6e1",
   "metadata": {},
   "outputs": [],
   "source": [
    "import pandas as pd\n",
    "import numpy as np \n",
    "from sklearn.preprocessing import MinMaxScaler"
   ]
  },
  {
   "cell_type": "code",
   "execution_count": 89,
   "id": "8f4d11fa",
   "metadata": {},
   "outputs": [],
   "source": [
    "dataset = pd.read_csv('../db/AmesHousing.csv', sep='\\t')\n",
    "localCopy=dataset.copy(deep=True)"
   ]
  },
  {
   "cell_type": "code",
   "execution_count": 90,
   "id": "f7a1bd4f",
   "metadata": {},
   "outputs": [],
   "source": [
    "#SEPARATION OF CATEGORICAL AND NUMERICAL FEATURES\n",
    "\n",
    "#AmesExplanations.txt indicates a separation of the data in 4 types:\n",
    "# Continuous - numerical\n",
    "# Nominal - categorical\n",
    "# Ordinal - usually categorical, numerical if order matters\n",
    "# Discrete - usually numerical, categorical if it's an ID\n",
    "\n",
    "cat_features = ['MS SubClass','MS Zoning','Street','Alley',\n",
    "                'Lot Shape','Land Contour','Utilities','Lot Config',\n",
    "                'Land Slope','Neighborhood','Condition 1','Condition 2',\n",
    "                'Bldg Type','House Style','Roof Style','Roof Matl',\n",
    "                'Exterior 1st','Exterior 2nd','Mas Vnr Type','Foundation',\n",
    "                'Heating','Central Air','Electrical','Garage Type',\n",
    "                'Paved Drive','Misc Feature','Sale Condition']\n",
    "\n",
    "num_features = ['Lot Frontage','Lot Area','Overall Qual','Overall Cond',\n",
    "                'Year Built','Year Remod/Add','Mas Vnr Area','Exter Qual',\n",
    "                'Exter Cond','Bsmt Qual','Bsmt Cond','Bsmt Exposure',\n",
    "                'BsmtFin Type 1', 'BsmtFin SF 1','BsmtFin Type 2','BsmtFin SF 2',\n",
    "                'Bsmt Unf SF','Total Bsmt SF','Heating QC','1st Flr SF','2nd Flr SF',\n",
    "                'Low Qual Fin SF','Gr Liv Area','Bsmt Full Bath','Bsmt Half Bath',\n",
    "                'Full Bath','Half Bath','Bedroom','Kitchen','Kitchen Qual','TotRmsAbvGrd',\n",
    "                'Functional','Fireplaces','Fireplace Qu',\n",
    "                'Garage Yr Blt','Garage Finish','Garage Cars','Garage Area','Garage Qual',\n",
    "                'Garage Cond','Wood Deck SF','Open Porch SF','Enclosed Porch','3-Ssn Porch',\n",
    "                'Screen Porch','Pool Area','Pool QC','Fence','Misc Val','Mo Sold','Yr Sold',\n",
    "                'Sale Type','SalePrice']\n",
    "\n",
    "\n",
    "# Features that describe a grade (ex. Quality: 1-10 or Poor/Average/Excellent) will be treated as\n",
    "# numeric values. There are string values as well; these will be mapped to numbers so that the model\n",
    "# understands them\n",
    "\n",
    "# to be mapped to numbers: Exter Qual, Exter Cond, Bsmt Qual, Bsmt Cond, Bsmt Exposure,\n",
    "# BsmtFin Type 1, BsmtFinType 2, HeatingQC, KitchenQual, Functional, FireplaceQu, \n",
    "# Garage Finish, Garage Qual, Garage Cond, Pool QC, Fence, Sale Type\n",
    "\n",
    "ordinal_maps = {'Exter Qual': {'Po':1, 'Fa':2, 'TA':3, 'Gd':4, 'Ex':5},\n",
    "                'Exter Cond': {'Po':1, 'Fa':2, 'TA':3, 'Gd':4, 'Ex':5},\n",
    "                'Bsmt Qual': {'NA':0, 'Po':1, 'Fa':2, 'TA':3, 'Gd':4, 'Ex':5},\n",
    "                'Bsmt Cond': {'NA':0, 'Po':1, 'Fa':2, 'TA':3, 'Gd':4, 'Ex':5},\n",
    "                'Bsmt Exposure': {'NA':0, 'No':1, 'Mn':2, 'Av':3, 'Gd':4},\n",
    "                'BsmtFin Type 1': {'NA':0, 'Unf':1, 'LwQ':2, 'Rec':3, 'BLQ':4, 'ALQ':5, 'GLQ':6},\n",
    "                'BsmtFin Type 2': {'NA':0, 'Unf':1, 'LwQ':2, 'Rec':3, 'BLQ':4, 'ALQ':5, 'GLQ':6},\n",
    "                'Heating QC': {'Po':1, 'Fa':2, 'TA':3, 'Gd':4, 'Ex':5},\n",
    "                'Kitchen Qual': {'Po':1, 'Fa':2, 'TA':3, 'Gd':4, 'Ex':5},\n",
    "                'Functional': {'Sal':1, 'Sev':2, 'Maj2':3, 'Maj1':4, 'Mod':5, 'Min2':6, 'Min1':7, 'Typ':8},\n",
    "                'Fireplace Qu': {'NA':0, 'Po':1, 'Fa':2, 'TA':3, 'Gd':4, 'Ex':5},\n",
    "                'Garage Finish': {'NA':0, 'Unf':1, 'RFn':2, 'Fin':3},\n",
    "                'Garage Qual': {'NA':0, 'Po':1, 'Fa':2, 'TA':3, 'Gd':4, 'Ex':5},\n",
    "                'Garage Cond': {'NA':0, 'Po':1, 'Fa':2, 'TA':3, 'Gd':4, 'Ex':5},\n",
    "                'Pool QC': {'NA':0, 'Fa':1, 'TA':2, 'Gd':3, 'Ex':4},\n",
    "                'Fence': {'NA':0, 'MnWw':1, 'GdWo':2, 'MnPrv':3, 'GdPrv':4},\n",
    "                'Sale Type': {'Oth':1, 'ConLD':2, 'ConLI':3, 'ConLw':4, 'Con':5, 'COD':6, 'New':7, 'VWD':8, 'CWD':9, 'WD':10}\n",
    "                }\n",
    "\n",
    "# apply the mappings to the strings\n",
    "for col,mapping in ordinal_maps.items():\n",
    "    if col in localCopy.columns:\n",
    "        localCopy[col] = localCopy[col].map(mapping)"
   ]
  },
  {
   "cell_type": "code",
   "execution_count": 91,
   "id": "34a9832e",
   "metadata": {},
   "outputs": [],
   "source": [
    "#FEATURE ENGINEERING: Deletion\n",
    "\n",
    "#dropping the PID , Order Column\n",
    "# Yr Sold, Sale Price, Year Built, Total Bsmt SF, Gr Liv Area because they have a high correlation with \n",
    "# other features, we are gonna keep them and delete the others\n",
    "localCopy.drop(columns=['PID','Order','Overall Qual', 'Garage Yr Blt', '1st Flr SF','TotRms AbvGrd', 'Garage Cars'],inplace=True)\n",
    "localCopy.drop(index=[1341,1497,1577,2236],inplace=True)\n",
    "\n",
    "#dropping columns with many null values\n",
    "for column in localCopy:\n",
    "    if localCopy[column].isna().sum()>2000:\n",
    "        localCopy.drop(column, axis=1, inplace=True)\n",
    "\n",
    "#After all deletions, remove the deleted features in the 2 cat/num separation arrays as well\n",
    "cat_features = [col for col in cat_features if col in localCopy.columns]\n",
    "num_features = [col for col in num_features if col in localCopy.columns]\n",
    "#Also do the same for the ordinal_maps\n",
    "ordinal_maps = {col: mapping for col,mapping in ordinal_maps.items() if col in localCopy.columns}"
   ]
  },
  {
   "cell_type": "code",
   "execution_count": 92,
   "id": "926abef8",
   "metadata": {},
   "outputs": [],
   "source": [
    "#FEATURE ENGINEERING: Scaling\n",
    "\n",
    "#Scalam doar features numerice\n",
    "scaler = MinMaxScaler()\n",
    "scaled_data = localCopy.copy(deep=True)\n",
    "scaled_data[num_features] = scaler.fit_transform(localCopy[num_features])\n",
    "\n",
    "localCopy = scaled_data"
   ]
  },
  {
   "cell_type": "code",
   "execution_count": 93,
   "id": "893acbf0",
   "metadata": {},
   "outputs": [
    {
     "data": {
      "text/plain": [
       "[]"
      ]
     },
     "execution_count": 93,
     "metadata": {},
     "output_type": "execute_result"
    }
   ],
   "source": [
    "# One-Hot Encoding for the categorical variables\n",
    "from sklearn.preprocessing import OneHotEncoder\n",
    "\n",
    "encoder = OneHotEncoder(sparse_output=False)\n",
    "encodedData = encoder.fit_transform(localCopy[cat_features])\n",
    "encodedDataFrame = pd.DataFrame(encodedData, columns=encoder.get_feature_names_out(cat_features))\n",
    "\n",
    "localCopy = pd.concat([localCopy, encodedDataFrame], axis=1)\n",
    "localCopy = localCopy.drop(cat_features, axis=1)\n",
    "\n",
    "# check if there are any categorical columns\n",
    "localCopy.select_dtypes(include=['object']).columns.tolist()\n"
   ]
  },
  {
   "cell_type": "code",
   "execution_count": null,
   "id": "a578b479",
   "metadata": {},
   "outputs": [],
   "source": []
  }
 ],
 "metadata": {
  "kernelspec": {
   "display_name": ".venv",
   "language": "python",
   "name": "python3"
  },
  "language_info": {
   "codemirror_mode": {
    "name": "ipython",
    "version": 3
   },
   "file_extension": ".py",
   "mimetype": "text/x-python",
   "name": "python",
   "nbconvert_exporter": "python",
   "pygments_lexer": "ipython3",
   "version": "3.12.10"
  }
 },
 "nbformat": 4,
 "nbformat_minor": 5
}
