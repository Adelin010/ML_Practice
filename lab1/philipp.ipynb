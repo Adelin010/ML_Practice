{
 "cells": [
  {
   "cell_type": "code",
   "execution_count": null,
   "id": "0a66d867",
   "metadata": {},
   "outputs": [],
   "source": [
    "#testez daca merge\n",
    "Hello"
   ]
  }
 ],
 "metadata": {
  "language_info": {
   "name": "python"
  }
 },
 "nbformat": 4,
 "nbformat_minor": 5
}
