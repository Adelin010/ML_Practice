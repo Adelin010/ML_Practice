{
 "cells": [
  {
   "cell_type": "code",
   "execution_count": 33,
   "id": "d8da3091",
   "metadata": {},
   "outputs": [],
   "source": [
    "import pandas as pd\n",
    "import numpy as np\n",
    "import matplotlib.pyplot as plt\n",
    "from scipy.stats import skew, kurtosis, spearmanr"
   ]
  },
  {
   "cell_type": "code",
   "execution_count": 34,
   "id": "c7f3657b",
   "metadata": {},
   "outputs": [
    {
     "data": {
      "text/plain": [
       "(2930, 82)"
      ]
     },
     "execution_count": 34,
     "metadata": {},
     "output_type": "execute_result"
    }
   ],
   "source": [
    "dataset= pd.read_csv(\"AmesHousing.csv\",sep='\\t')\n",
    "dataset.head()\n",
    "dataset.shape"
   ]
  },
  {
   "cell_type": "code",
   "execution_count": 35,
   "id": "ff453b97",
   "metadata": {},
   "outputs": [
    {
     "name": "stdout",
     "output_type": "stream",
     "text": [
      "<class 'pandas.core.frame.DataFrame'>\n",
      "RangeIndex: 2930 entries, 0 to 2929\n",
      "Data columns (total 82 columns):\n",
      " #   Column           Non-Null Count  Dtype  \n",
      "---  ------           --------------  -----  \n",
      " 0   Order            2930 non-null   int64  \n",
      " 1   PID              2930 non-null   int64  \n",
      " 2   MS SubClass      2930 non-null   int64  \n",
      " 3   MS Zoning        2930 non-null   object \n",
      " 4   Lot Frontage     2440 non-null   float64\n",
      " 5   Lot Area         2930 non-null   int64  \n",
      " 6   Street           2930 non-null   object \n",
      " 7   Alley            198 non-null    object \n",
      " 8   Lot Shape        2930 non-null   object \n",
      " 9   Land Contour     2930 non-null   object \n",
      " 10  Utilities        2930 non-null   object \n",
      " 11  Lot Config       2930 non-null   object \n",
      " 12  Land Slope       2930 non-null   object \n",
      " 13  Neighborhood     2930 non-null   object \n",
      " 14  Condition 1      2930 non-null   object \n",
      " 15  Condition 2      2930 non-null   object \n",
      " 16  Bldg Type        2930 non-null   object \n",
      " 17  House Style      2930 non-null   object \n",
      " 18  Overall Qual     2930 non-null   int64  \n",
      " 19  Overall Cond     2930 non-null   int64  \n",
      " 20  Year Built       2930 non-null   int64  \n",
      " 21  Year Remod/Add   2930 non-null   int64  \n",
      " 22  Roof Style       2930 non-null   object \n",
      " 23  Roof Matl        2930 non-null   object \n",
      " 24  Exterior 1st     2930 non-null   object \n",
      " 25  Exterior 2nd     2930 non-null   object \n",
      " 26  Mas Vnr Type     1155 non-null   object \n",
      " 27  Mas Vnr Area     2907 non-null   float64\n",
      " 28  Exter Qual       2930 non-null   object \n",
      " 29  Exter Cond       2930 non-null   object \n",
      " 30  Foundation       2930 non-null   object \n",
      " 31  Bsmt Qual        2850 non-null   object \n",
      " 32  Bsmt Cond        2850 non-null   object \n",
      " 33  Bsmt Exposure    2847 non-null   object \n",
      " 34  BsmtFin Type 1   2850 non-null   object \n",
      " 35  BsmtFin SF 1     2929 non-null   float64\n",
      " 36  BsmtFin Type 2   2849 non-null   object \n",
      " 37  BsmtFin SF 2     2929 non-null   float64\n",
      " 38  Bsmt Unf SF      2929 non-null   float64\n",
      " 39  Total Bsmt SF    2929 non-null   float64\n",
      " 40  Heating          2930 non-null   object \n",
      " 41  Heating QC       2930 non-null   object \n",
      " 42  Central Air      2930 non-null   object \n",
      " 43  Electrical       2929 non-null   object \n",
      " 44  1st Flr SF       2930 non-null   int64  \n",
      " 45  2nd Flr SF       2930 non-null   int64  \n",
      " 46  Low Qual Fin SF  2930 non-null   int64  \n",
      " 47  Gr Liv Area      2930 non-null   int64  \n",
      " 48  Bsmt Full Bath   2928 non-null   float64\n",
      " 49  Bsmt Half Bath   2928 non-null   float64\n",
      " 50  Full Bath        2930 non-null   int64  \n",
      " 51  Half Bath        2930 non-null   int64  \n",
      " 52  Bedroom AbvGr    2930 non-null   int64  \n",
      " 53  Kitchen AbvGr    2930 non-null   int64  \n",
      " 54  Kitchen Qual     2930 non-null   object \n",
      " 55  TotRms AbvGrd    2930 non-null   int64  \n",
      " 56  Functional       2930 non-null   object \n",
      " 57  Fireplaces       2930 non-null   int64  \n",
      " 58  Fireplace Qu     1508 non-null   object \n",
      " 59  Garage Type      2773 non-null   object \n",
      " 60  Garage Yr Blt    2771 non-null   float64\n",
      " 61  Garage Finish    2771 non-null   object \n",
      " 62  Garage Cars      2929 non-null   float64\n",
      " 63  Garage Area      2929 non-null   float64\n",
      " 64  Garage Qual      2771 non-null   object \n",
      " 65  Garage Cond      2771 non-null   object \n",
      " 66  Paved Drive      2930 non-null   object \n",
      " 67  Wood Deck SF     2930 non-null   int64  \n",
      " 68  Open Porch SF    2930 non-null   int64  \n",
      " 69  Enclosed Porch   2930 non-null   int64  \n",
      " 70  3Ssn Porch       2930 non-null   int64  \n",
      " 71  Screen Porch     2930 non-null   int64  \n",
      " 72  Pool Area        2930 non-null   int64  \n",
      " 73  Pool QC          13 non-null     object \n",
      " 74  Fence            572 non-null    object \n",
      " 75  Misc Feature     106 non-null    object \n",
      " 76  Misc Val         2930 non-null   int64  \n",
      " 77  Mo Sold          2930 non-null   int64  \n",
      " 78  Yr Sold          2930 non-null   int64  \n",
      " 79  Sale Type        2930 non-null   object \n",
      " 80  Sale Condition   2930 non-null   object \n",
      " 81  SalePrice        2930 non-null   int64  \n",
      "dtypes: float64(11), int64(28), object(43)\n",
      "memory usage: 1.8+ MB\n"
     ]
    }
   ],
   "source": [
    "dataset.info()\n"
   ]
  },
  {
   "cell_type": "code",
   "execution_count": 36,
   "id": "59b0af15",
   "metadata": {},
   "outputs": [],
   "source": [
    "localCopy=dataset.copy(deep=True)"
   ]
  },
  {
   "cell_type": "code",
   "execution_count": 37,
   "id": "b4b11bff",
   "metadata": {},
   "outputs": [
    {
     "name": "stdout",
     "output_type": "stream",
     "text": [
      "Alley\n",
      "Pool QC\n",
      "Fence\n",
      "Misc Feature\n"
     ]
    }
   ],
   "source": [
    "\n",
    "for column in localCopy:\n",
    "    if localCopy[column].isna().sum()>2000:\n",
    "        print(column)\n",
    "        localCopy.drop(column, axis=1, inplace=True)\n",
    "\n"
   ]
  },
  {
   "cell_type": "code",
   "execution_count": 38,
   "id": "05a2ba87",
   "metadata": {},
   "outputs": [
    {
     "name": "stdout",
     "output_type": "stream",
     "text": [
      "144\n",
      "480\n",
      "576\n",
      "555\n",
      "368\n",
      "444\n",
      "228\n",
      "561\n",
      "519\n",
      "648\n",
      "800\n",
      "512\n",
      "738\n"
     ]
    }
   ],
   "source": [
    "for i in localCopy[\"Pool Area\"]:\n",
    "    if i>0: \n",
    "        print(i)"
   ]
  },
  {
   "cell_type": "code",
   "execution_count": 39,
   "id": "f8332d3c",
   "metadata": {},
   "outputs": [],
   "source": [
    "#SEPARATION OF CATEGORICAL AND NUMERICAL FEATURES\n",
    "\n",
    "#AmesExplanations.txt indicates a separation of the data in 4 types:\n",
    "# Continuous - numerical\n",
    "# Nominal - categorical\n",
    "# Ordinal - usually categorical, numerical if order matters\n",
    "# Discrete - usually numerical, categorical if it's an ID\n",
    "\n",
    "cat_features = ['MS SubClass','MS Zoning','Street',\n",
    "                'Lot Shape','Land Contour','Utilities','LotConfig',\n",
    "                'Land Slope','Neighborhood','Condition 1','Condition 2',\n",
    "                'Bldg Type','House Style','Roof Style','Roof Matl',\n",
    "                'Exterior 1','Exterior 2','Mas Vnr Type','Foundation',\n",
    "                'Heating','Central Air','Electrical','Garage Type',\n",
    "                'Paved Drive','Misc Feature','Sale Condition']\n",
    "\n",
    "num_features = ['Lot Frontage','Lot Area','Overall Qual','Overall Cond',\n",
    "                'Year Built','Year Remod/Add','Mas Vnr Area','Exter Qual',\n",
    "                'Exter Cond','Bsmt Qual','Bsmt Cond','Bsmt Exposure',\n",
    "                'BsmtFin Type 1', 'BsmtFin SF 1','BsmtFinType 2','BsmtFin SF 2',\n",
    "                'Bsmt Unf SF','Total Bsmt SF','HeatingQC','1st Flr SF','2nd Flr SF',\n",
    "                'Low Qual Fin SF','Gr Liv Area','Bsmt Full Bath','Bsmt Half Bath',\n",
    "                'Full Bath','Half Bath','Bedroom','Kitchen','KitchenQual','TotRmsAbvGrd',\n",
    "                'Functional','Fireplaces','FireplaceQu',\n",
    "                'Garage Yr Blt','Garage Finish','Garage Cars','Garage Area','Garage Qual',\n",
    "                'Garage Cond','Wood Deck SF','Open Porch SF','Enclosed Porch','3-Ssn Porch',\n",
    "                'Screen Porch','Pool Area','Misc Val','Mo Sold','Yr Sold',\n",
    "                'Sale Type','SalePrice']\n",
    "\n",
    "\n",
    "# Features that describe a grade (ex. Quality: 1-10 or Poor/Average/Excellent) will be treated as\n",
    "# numeric values. There are string values as well; these will be mapped to numbers so that the model\n",
    "# understands them\n",
    "\n",
    "# to be mapped to numbers: Exter Qual, Exter Cond, Bsmt Qual, Bsmt Cond, Bsmt Exposure,\n",
    "# BsmtFin Type 1, BsmtFinType 2, HeatingQC, KitchenQual, Functional, FireplaceQu, \n",
    "# Garage Finish, Garage Qual, Garage Cond, Pool QC, Fence, Sale Type\n",
    "\n",
    "ordinal_maps = {'Exter Qual': {'Po':1, 'Fa':2, 'TA':3, 'Gd':4, 'Ex':5},\n",
    "                'Exter Cond': {'Po':1, 'Fa':2, 'TA':3, 'Gd':4, 'Ex':5},\n",
    "                'Bsmt Qual': {'NA':0, 'Po':1, 'Fa':2, 'TA':3, 'Gd':4, 'Ex':5},\n",
    "                'Bsmt Cond': {'NA':0, 'Po':1, 'Fa':2, 'TA':3, 'Gd':4, 'Ex':5},\n",
    "                'Bsmt Exposure': {'NA':0, 'No':1, 'Mn':2, 'Av':3, 'Gd':4},\n",
    "                'BsmtFin Type 1': {'NA':0, 'Unf':1, 'LwQ':2, 'Rec':3, 'BLQ':4, 'ALQ':5, 'GLQ':6},\n",
    "                'BsmtFin Type 2': {'NA':0, 'Unf':1, 'LwQ':2, 'Rec':3, 'BLQ':4, 'ALQ':5, 'GLQ':6},\n",
    "                'Heating QC': {'Po':1, 'Fa':2, 'TA':3, 'Gd':4, 'Ex':5},\n",
    "                'Kitchen Qual': {'Po':1, 'Fa':2, 'TA':3, 'Gd':4, 'Ex':5},\n",
    "                'Functional': {'Sal':1, 'Sev':2, 'Maj2':3, 'Maj1':4, 'Mod':5, 'Min2':6, 'Min1':7, 'Typ':8},\n",
    "                'Fireplace Qu': {'NA':0, 'Po':1, 'Fa':2, 'TA':3, 'Gd':4, 'Ex':5},\n",
    "                'Garage Finish': {'NA':0, 'Unf':1, 'RFn':2, 'Fin':3},\n",
    "                'Garage Qual': {'NA':0, 'Po':1, 'Fa':2, 'TA':3, 'Gd':4, 'Ex':5},\n",
    "                'Garage Cond': {'NA':0, 'Po':1, 'Fa':2, 'TA':3, 'Gd':4, 'Ex':5},\n",
    "                'Sale Type': { 'Oth': 1,'ConLw': 2,'ConLD': 3,'COD': 4,'VWD': 5,'WD': 6,'ConLI': 7,'CWD': 8,'Con': 9,'New': 10}\n",
    "                }"
   ]
  },
  {
   "cell_type": "code",
   "execution_count": 40,
   "id": "f11a8cca",
   "metadata": {},
   "outputs": [
    {
     "name": "stdout",
     "output_type": "stream",
     "text": [
      "         Order       PID  MS SubClass MS Zoning  Lot Frontage  Lot Area  \\\n",
      "0     0.000000  0.000000     0.000000        RL      0.410959  0.142420   \n",
      "1     0.000341  0.000102     0.000000        RH      0.202055  0.048246   \n",
      "2     0.000683  0.000104     0.000000        RL      0.205479  0.060609   \n",
      "3     0.001024  0.000108     0.000000        RL      0.246575  0.046087   \n",
      "4     0.001366  0.001672     0.235294        RL      0.181507  0.058566   \n",
      "...        ...       ...          ...       ...           ...       ...   \n",
      "2925  0.998634  0.825655     0.352941        RL      0.054795  0.031022   \n",
      "2926  0.998976  0.825657     0.000000        RL           NaN  0.035453   \n",
      "2927  0.999317  0.825915     0.382353        RL      0.140411  0.042726   \n",
      "2928  0.999659  0.827371     0.000000        RL      0.191781  0.040711   \n",
      "2929  1.000000  0.827477     0.235294        RL      0.181507  0.038921   \n",
      "\n",
      "     Street Lot Shape Land Contour Utilities  ... Enclosed Porch 3Ssn Porch  \\\n",
      "0      Pave       IR1          Lvl    AllPub  ...            0.0        0.0   \n",
      "1      Pave       Reg          Lvl    AllPub  ...            0.0        0.0   \n",
      "2      Pave       IR1          Lvl    AllPub  ...            0.0        0.0   \n",
      "3      Pave       Reg          Lvl    AllPub  ...            0.0        0.0   \n",
      "4      Pave       IR1          Lvl    AllPub  ...            0.0        0.0   \n",
      "...     ...       ...          ...       ...  ...            ...        ...   \n",
      "2925   Pave       IR1          Lvl    AllPub  ...            0.0        0.0   \n",
      "2926   Pave       IR1          Low    AllPub  ...            0.0        0.0   \n",
      "2927   Pave       Reg          Lvl    AllPub  ...            0.0        0.0   \n",
      "2928   Pave       Reg          Lvl    AllPub  ...            0.0        0.0   \n",
      "2929   Pave       Reg          Lvl    AllPub  ...            0.0        0.0   \n",
      "\n",
      "     Screen Porch Pool Area  Misc Val   Mo Sold Yr Sold  Sale Type  \\\n",
      "0        0.000000       0.0  0.000000  0.363636     1.0        WD    \n",
      "1        0.208333       0.0  0.000000  0.454545     1.0        WD    \n",
      "2        0.000000       0.0  0.735294  0.454545     1.0        WD    \n",
      "3        0.000000       0.0  0.000000  0.272727     1.0        WD    \n",
      "4        0.000000       0.0  0.000000  0.181818     1.0        WD    \n",
      "...           ...       ...       ...       ...     ...        ...   \n",
      "2925     0.000000       0.0  0.000000  0.181818     0.0        WD    \n",
      "2926     0.000000       0.0  0.000000  0.454545     0.0        WD    \n",
      "2927     0.000000       0.0  0.041176  0.545455     0.0        WD    \n",
      "2928     0.000000       0.0  0.000000  0.272727     0.0        WD    \n",
      "2929     0.000000       0.0  0.000000  0.909091     0.0        WD    \n",
      "\n",
      "      Sale Condition  SalePrice  \n",
      "0             Normal   0.272444  \n",
      "1             Normal   0.124238  \n",
      "2             Normal   0.214509  \n",
      "3             Normal   0.311517  \n",
      "4             Normal   0.238626  \n",
      "...              ...        ...  \n",
      "2925          Normal   0.174763  \n",
      "2926          Normal   0.159269  \n",
      "2927          Normal   0.160616  \n",
      "2928          Normal   0.211814  \n",
      "2929          Normal   0.236066  \n",
      "\n",
      "[2930 rows x 78 columns]\n"
     ]
    }
   ],
   "source": [
    "#FEATURE ENGINEERING: Scaling\n",
    "\n",
    "from sklearn.preprocessing import MinMaxScaler\n",
    "\n",
    "#Vrem sa scalam\n",
    "#Problema in datasetul nostru: avem si stringuri ex. \"RL\",\"RM\" care nu se pot scala\n",
    "#Solutie: aplicam numai pt coloanele cu numere\n",
    "\n",
    "numeric_cols = localCopy.select_dtypes(include=\"number\").columns\n",
    "\n",
    "scaler = MinMaxScaler()\n",
    "scaled_data = localCopy.copy(deep=True)\n",
    "scaled_data[numeric_cols] = scaler.fit_transform(localCopy[numeric_cols])\n",
    "\n",
    "print(scaled_data)"
   ]
  },
  {
   "cell_type": "code",
   "execution_count": 41,
   "id": "bb5cc94b",
   "metadata": {},
   "outputs": [
    {
     "data": {
      "image/png": "[encoded data removed]",
      "text/plain": [
       "<Figure size 640x480 with 1 Axes>"
      ]
     },
     "metadata": {},
     "output_type": "display_data"
    }
   ],
   "source": [
    "plt.hist(localCopy[\"Pool Area\"],bins=30, color='blue', density=True)\n",
    "plt.title('Pool Area Histogram')\n",
    "plt.xlabel('Pool size')\n",
    "plt.ylabel('Frequency')\n",
    "plt.show()"
   ]
  },
  {
   "cell_type": "code",
   "execution_count": 42,
   "id": "fce70710",
   "metadata": {},
   "outputs": [
    {
     "data": {
      "image/png": "[encoded data removed]",
      "text/plain": [
       "<Figure size 640x480 with 1 Axes>"
      ]
     },
     "metadata": {},
     "output_type": "display_data"
    }
   ],
   "source": [
    "plt.hist(localCopy[\"SalePrice\"],bins=30, color='blue', density=True)\n",
    "plt.title('Pool Area Histogram')\n",
    "plt.xlabel('Pool size')\n",
    "plt.ylabel('Frequency')\n",
    "plt.show()"
   ]
  },
  {
   "cell_type": "code",
   "execution_count": 43,
   "id": "d32d272e",
   "metadata": {},
   "outputs": [
    {
     "data": {
      "text/plain": [
       "Index(['Order', 'PID', 'MS SubClass', 'MS Zoning', 'Lot Frontage', 'Lot Area',\n",
       "       'Street', 'Lot Shape', 'Land Contour', 'Utilities', 'Lot Config',\n",
       "       'Land Slope', 'Neighborhood', 'Condition 1', 'Condition 2', 'Bldg Type',\n",
       "       'House Style', 'Overall Qual', 'Overall Cond', 'Year Built',\n",
       "       'Year Remod/Add', 'Roof Style', 'Roof Matl', 'Exterior 1st',\n",
       "       'Exterior 2nd', 'Mas Vnr Type', 'Mas Vnr Area', 'Exter Qual',\n",
       "       'Exter Cond', 'Foundation', 'Bsmt Qual', 'Bsmt Cond', 'Bsmt Exposure',\n",
       "       'BsmtFin Type 1', 'BsmtFin SF 1', 'BsmtFin Type 2', 'BsmtFin SF 2',\n",
       "       'Bsmt Unf SF', 'Total Bsmt SF', 'Heating', 'Heating QC', 'Central Air',\n",
       "       'Electrical', '1st Flr SF', '2nd Flr SF', 'Low Qual Fin SF',\n",
       "       'Gr Liv Area', 'Bsmt Full Bath', 'Bsmt Half Bath', 'Full Bath',\n",
       "       'Half Bath', 'Bedroom AbvGr', 'Kitchen AbvGr', 'Kitchen Qual',\n",
       "       'TotRms AbvGrd', 'Functional', 'Fireplaces', 'Fireplace Qu',\n",
       "       'Garage Type', 'Garage Yr Blt', 'Garage Finish', 'Garage Cars',\n",
       "       'Garage Area', 'Garage Qual', 'Garage Cond', 'Paved Drive',\n",
       "       'Wood Deck SF', 'Open Porch SF', 'Enclosed Porch', '3Ssn Porch',\n",
       "       'Screen Porch', 'Pool Area', 'Misc Val', 'Mo Sold', 'Yr Sold',\n",
       "       'Sale Type', 'Sale Condition', 'SalePrice'],\n",
       "      dtype='object')"
      ]
     },
     "execution_count": 43,
     "metadata": {},
     "output_type": "execute_result"
    }
   ],
   "source": [
    "localCopy.columns"
   ]
  },
  {
   "cell_type": "code",
   "execution_count": 44,
   "id": "b00552a5",
   "metadata": {},
   "outputs": [],
   "source": [
    "numerical_data=localCopy.select_dtypes(include=['int64','float64'])\n",
    "corr_matrix=numerical_data.corr()"
   ]
  },
  {
   "cell_type": "code",
   "execution_count": 45,
   "id": "d3064305",
   "metadata": {},
   "outputs": [
    {
     "name": "stdout",
     "output_type": "stream",
     "text": [
      "                    Order       PID  MS SubClass  Lot Frontage  Lot Area  \\\n",
      "Order            1.000000  0.173593     0.011797     -0.007034  0.031354   \n",
      "PID              0.173593  1.000000    -0.001281     -0.096918  0.034868   \n",
      "MS SubClass      0.011797 -0.001281     1.000000     -0.420135 -0.204613   \n",
      "Lot Frontage    -0.007034 -0.096918    -0.420135      1.000000  0.491313   \n",
      "Lot Area         0.031354  0.034868    -0.204613      0.491313  1.000000   \n",
      "Overall Qual    -0.048500 -0.263147     0.039419      0.212042  0.097188   \n",
      "Overall Cond    -0.011054  0.104451    -0.067349     -0.074448 -0.034759   \n",
      "Year Built      -0.052319 -0.343388     0.036579      0.121562  0.023258   \n",
      "Year Remod/Add  -0.075566 -0.157111     0.043397      0.091712  0.021682   \n",
      "Mas Vnr Area    -0.030907 -0.229283     0.002730      0.222407  0.126830   \n",
      "BsmtFin SF 1    -0.032321 -0.098375    -0.060075      0.215583  0.191555   \n",
      "BsmtFin SF 2    -0.002773 -0.001145    -0.070946      0.045999  0.083150   \n",
      "Bsmt Unf SF      0.005780 -0.087707    -0.130421      0.116743  0.023658   \n",
      "Total Bsmt SF   -0.028719 -0.189642    -0.219445      0.353773  0.253589   \n",
      "1st Flr SF      -0.013201 -0.141902    -0.247828      0.457391  0.332235   \n",
      "2nd Flr SF      -0.000417 -0.003289     0.304237      0.029187  0.032996   \n",
      "Low Qual Fin SF  0.013589  0.056940     0.025765      0.005249  0.000812   \n",
      "Gr Liv Area     -0.009342 -0.107579     0.068061      0.383822  0.285599   \n",
      "Bsmt Full Bath  -0.042539 -0.037759     0.013701      0.108915  0.125877   \n",
      "Bsmt Half Bath   0.024978  0.004328    -0.003329     -0.024724  0.026903   \n",
      "Full Bath       -0.044985 -0.171431     0.134631      0.184521  0.127433   \n",
      "Half Bath       -0.039749 -0.166636     0.175879      0.041880  0.035497   \n",
      "Bedroom AbvGr    0.015424  0.006345    -0.019208      0.240442  0.136569   \n",
      "Kitchen AbvGr   -0.017685  0.076470     0.257698      0.005407 -0.020301   \n",
      "TotRms AbvGrd    0.002612 -0.068981     0.031898      0.353137  0.216597   \n",
      "Fireplaces      -0.019156 -0.108056    -0.049955      0.257255  0.256989   \n",
      "Garage Yr Blt   -0.051160 -0.256829     0.088754      0.076306 -0.008952   \n",
      "Garage Cars     -0.036185 -0.237484    -0.045883      0.308706  0.179512   \n",
      "Garage Area     -0.035435 -0.210606    -0.103239      0.358505  0.212822   \n",
      "Wood Deck SF    -0.011292 -0.051135    -0.017310      0.120084  0.157212   \n",
      "Open Porch SF    0.016355 -0.071311    -0.014823      0.163040  0.103760   \n",
      "Enclosed Porch   0.027908  0.162519    -0.022866      0.012758  0.021868   \n",
      "3Ssn Porch      -0.024975 -0.024894    -0.037956      0.028564  0.016243   \n",
      "Screen Porch     0.004307 -0.025735    -0.050614      0.076666  0.055044   \n",
      "Pool Area        0.052518 -0.002845    -0.003434      0.173947  0.093775   \n",
      "Misc Val        -0.006083 -0.008260    -0.029254      0.044476  0.069188   \n",
      "Mo Sold          0.133365 -0.050455     0.000350      0.011085  0.003859   \n",
      "Yr Sold         -0.975993  0.009579    -0.017905     -0.007547 -0.023085   \n",
      "SalePrice       -0.031408 -0.246521    -0.085092      0.357318  0.266549   \n",
      "\n",
      "                 Overall Qual  Overall Cond  Year Built  Year Remod/Add  \\\n",
      "Order               -0.048500     -0.011054   -0.052319       -0.075566   \n",
      "PID                 -0.263147      0.104451   -0.343388       -0.157111   \n",
      "MS SubClass          0.039419     -0.067349    0.036579        0.043397   \n",
      "Lot Frontage         0.212042     -0.074448    0.121562        0.091712   \n",
      "Lot Area             0.097188     -0.034759    0.023258        0.021682   \n",
      "Overall Qual         1.000000     -0.094812    0.597027        0.569609   \n",
      "Overall Cond        -0.094812      1.000000   -0.368773        0.047680   \n",
      "Year Built           0.597027     -0.368773    1.000000        0.612095   \n",
      "Year Remod/Add       0.569609      0.047680    0.612095        1.000000   \n",
      "Mas Vnr Area         0.429418     -0.135340    0.313292        0.196928   \n",
      "BsmtFin SF 1         0.284118     -0.050935    0.279870        0.151790   \n",
      "BsmtFin SF 2        -0.041287      0.041134   -0.027415       -0.062129   \n",
      "Bsmt Unf SF          0.270058     -0.136819    0.128998        0.164805   \n",
      "Total Bsmt SF        0.547294     -0.173344    0.407526        0.297481   \n",
      "1st Flr SF           0.477837     -0.157052    0.310463        0.242108   \n",
      "2nd Flr SF           0.241402      0.006218    0.016828        0.158939   \n",
      "Low Qual Fin SF     -0.048680      0.009175   -0.144282       -0.060365   \n",
      "Gr Liv Area          0.570556     -0.115643    0.241726        0.316855   \n",
      "Bsmt Full Bath       0.167858     -0.042766    0.211849        0.134387   \n",
      "Bsmt Half Bath      -0.041647      0.084455   -0.030626       -0.046292   \n",
      "Full Bath            0.522263     -0.214316    0.469406        0.457266   \n",
      "Half Bath            0.268853     -0.088127    0.269268        0.211771   \n",
      "Bedroom AbvGr        0.063291     -0.006137   -0.055093       -0.021536   \n",
      "Kitchen AbvGr       -0.159744     -0.086386   -0.137852       -0.142404   \n",
      "TotRms AbvGrd        0.380693     -0.089816    0.111919        0.197528   \n",
      "Fireplaces           0.393007     -0.031702    0.170672        0.133322   \n",
      "Garage Yr Blt        0.570569     -0.326017    0.834849        0.652310   \n",
      "Garage Cars          0.599545     -0.181557    0.537443        0.425403   \n",
      "Garage Area          0.563503     -0.153754    0.480131        0.376438   \n",
      "Wood Deck SF         0.255663      0.020344    0.228964        0.217857   \n",
      "Open Porch SF        0.298412     -0.068934    0.198365        0.241748   \n",
      "Enclosed Porch      -0.140332      0.071459   -0.374364       -0.220383   \n",
      "3Ssn Porch           0.018240      0.043852    0.015803        0.037412   \n",
      "Screen Porch         0.041615      0.044055   -0.041436       -0.046888   \n",
      "Pool Area            0.030399     -0.016787    0.002213       -0.011410   \n",
      "Misc Val             0.005179      0.034056   -0.011011       -0.003132   \n",
      "Mo Sold              0.031103     -0.007295    0.014577        0.018048   \n",
      "Yr Sold             -0.020719      0.031207   -0.013197        0.032652   \n",
      "SalePrice            0.799262     -0.101697    0.558426        0.532974   \n",
      "\n",
      "                 Mas Vnr Area  ...  Wood Deck SF  Open Porch SF  \\\n",
      "Order               -0.030907  ...     -0.011292       0.016355   \n",
      "PID                 -0.229283  ...     -0.051135      -0.071311   \n",
      "MS SubClass          0.002730  ...     -0.017310      -0.014823   \n",
      "Lot Frontage         0.222407  ...      0.120084       0.163040   \n",
      "Lot Area             0.126830  ...      0.157212       0.103760   \n",
      "Overall Qual         0.429418  ...      0.255663       0.298412   \n",
      "Overall Cond        -0.135340  ...      0.020344      -0.068934   \n",
      "Year Built           0.313292  ...      0.228964       0.198365   \n",
      "Year Remod/Add       0.196928  ...      0.217857       0.241748   \n",
      "Mas Vnr Area         1.000000  ...      0.165467       0.143748   \n",
      "BsmtFin SF 1         0.301872  ...      0.224010       0.124947   \n",
      "BsmtFin SF 2        -0.016019  ...      0.098528      -0.005587   \n",
      "Bsmt Unf SF          0.091668  ...     -0.039621       0.118880   \n",
      "Total Bsmt SF        0.397040  ...      0.229931       0.245627   \n",
      "1st Flr SF           0.395736  ...      0.227131       0.238041   \n",
      "2nd Flr SF           0.121805  ...      0.089097       0.184538   \n",
      "Low Qual Fin SF     -0.057701  ...     -0.015646      -0.000761   \n",
      "Gr Liv Area          0.403611  ...      0.250153       0.340857   \n",
      "Bsmt Full Bath       0.140113  ...      0.186945       0.082268   \n",
      "Bsmt Half Bath       0.015421  ...      0.051430      -0.035069   \n",
      "Full Bath            0.260153  ...      0.179574       0.258675   \n",
      "Half Bath            0.192965  ...      0.115212       0.180704   \n",
      "Bedroom AbvGr        0.080546  ...      0.029711       0.083650   \n",
      "Kitchen AbvGr       -0.050998  ...     -0.087410      -0.068283   \n",
      "TotRms AbvGrd        0.279563  ...      0.154735       0.235684   \n",
      "Fireplaces           0.272068  ...      0.228064       0.159637   \n",
      "Garage Yr Blt        0.254784  ...      0.221991       0.231240   \n",
      "Garage Cars          0.360159  ...      0.241226       0.204182   \n",
      "Garage Area          0.373458  ...      0.238371       0.232912   \n",
      "Wood Deck SF         0.165467  ...      1.000000       0.039243   \n",
      "Open Porch SF        0.143748  ...      0.039243       1.000000   \n",
      "Enclosed Porch      -0.110787  ...     -0.119136      -0.059875   \n",
      "3Ssn Porch           0.013778  ...     -0.003967      -0.009458   \n",
      "Screen Porch         0.065643  ...     -0.052191       0.047548   \n",
      "Pool Area            0.004617  ...      0.094156       0.064135   \n",
      "Misc Val             0.044934  ...      0.056820       0.077254   \n",
      "Mo Sold             -0.000276  ...      0.016974       0.033651   \n",
      "Yr Sold             -0.017715  ...      0.000882      -0.037467   \n",
      "SalePrice            0.508285  ...      0.327143       0.312951   \n",
      "\n",
      "                 Enclosed Porch  3Ssn Porch  Screen Porch  Pool Area  \\\n",
      "Order                  0.027908   -0.024975      0.004307   0.052518   \n",
      "PID                    0.162519   -0.024894     -0.025735  -0.002845   \n",
      "MS SubClass           -0.022866   -0.037956     -0.050614  -0.003434   \n",
      "Lot Frontage           0.012758    0.028564      0.076666   0.173947   \n",
      "Lot Area               0.021868    0.016243      0.055044   0.093775   \n",
      "Overall Qual          -0.140332    0.018240      0.041615   0.030399   \n",
      "Overall Cond           0.071459    0.043852      0.044055  -0.016787   \n",
      "Year Built            -0.374364    0.015803     -0.041436   0.002213   \n",
      "Year Remod/Add        -0.220383    0.037412     -0.046888  -0.011410   \n",
      "Mas Vnr Area          -0.110787    0.013778      0.065643   0.004617   \n",
      "BsmtFin SF 1          -0.100455    0.050541      0.095874   0.084140   \n",
      "BsmtFin SF 2           0.032380   -0.023325      0.062951   0.044398   \n",
      "Bsmt Unf SF            0.006229   -0.005446     -0.048083  -0.031999   \n",
      "Total Bsmt SF         -0.085225    0.037871      0.075341   0.072128   \n",
      "1st Flr SF            -0.065713    0.044061      0.098316   0.121821   \n",
      "2nd Flr SF             0.055429   -0.032172      0.011741   0.044602   \n",
      "Low Qual Fin SF        0.087326   -0.004505      0.006943   0.035200   \n",
      "Gr Liv Area            0.004030    0.006481      0.086804   0.135463   \n",
      "Bsmt Full Bath        -0.069235    0.027034      0.052208   0.043705   \n",
      "Bsmt Half Bath        -0.009334    0.026954      0.042326   0.066902   \n",
      "Full Bath             -0.117795    0.015435     -0.015130   0.028205   \n",
      "Half Bath             -0.081312   -0.023231      0.035990   0.001515   \n",
      "Bedroom AbvGr          0.052115   -0.047151      0.009250   0.036707   \n",
      "Kitchen AbvGr          0.027911   -0.021379     -0.056337  -0.013066   \n",
      "TotRms AbvGrd          0.017221   -0.025097      0.033731   0.072103   \n",
      "Fireplaces            -0.000250    0.018414      0.168004   0.098449   \n",
      "Garage Yr Blt         -0.300879    0.020617     -0.062515  -0.014513   \n",
      "Garage Cars           -0.132840    0.023345      0.043012   0.030393   \n",
      "Garage Area           -0.106272    0.029458      0.062436   0.053051   \n",
      "Wood Deck SF          -0.119136   -0.003967     -0.052191   0.094156   \n",
      "Open Porch SF         -0.059875   -0.009458      0.047548   0.064135   \n",
      "Enclosed Porch         1.000000   -0.032674     -0.063965   0.092596   \n",
      "3Ssn Porch            -0.032674    1.000000     -0.029430  -0.006501   \n",
      "Screen Porch          -0.063965   -0.029430      1.000000   0.026383   \n",
      "Pool Area              0.092596   -0.006501      0.026383   1.000000   \n",
      "Misc Val               0.008773   -0.000753      0.007162   0.011942   \n",
      "Mo Sold               -0.021324    0.027229      0.028169  -0.042223   \n",
      "Yr Sold               -0.000505    0.022668     -0.006116  -0.052541   \n",
      "SalePrice             -0.128787    0.032225      0.112151   0.068403   \n",
      "\n",
      "                 Misc Val   Mo Sold   Yr Sold  SalePrice  \n",
      "Order           -0.006083  0.133365 -0.975993  -0.031408  \n",
      "PID             -0.008260 -0.050455  0.009579  -0.246521  \n",
      "MS SubClass     -0.029254  0.000350 -0.017905  -0.085092  \n",
      "Lot Frontage     0.044476  0.011085 -0.007547   0.357318  \n",
      "Lot Area         0.069188  0.003859 -0.023085   0.266549  \n",
      "Overall Qual     0.005179  0.031103 -0.020719   0.799262  \n",
      "Overall Cond     0.034056 -0.007295  0.031207  -0.101697  \n",
      "Year Built      -0.011011  0.014577 -0.013197   0.558426  \n",
      "Year Remod/Add  -0.003132  0.018048  0.032652   0.532974  \n",
      "Mas Vnr Area     0.044934 -0.000276 -0.017715   0.508285  \n",
      "BsmtFin SF 1     0.092886 -0.001155  0.022397   0.432914  \n",
      "BsmtFin SF 2    -0.005204 -0.009484  0.007105   0.005891  \n",
      "Bsmt Unf SF     -0.010166  0.021569 -0.036384   0.182855  \n",
      "Total Bsmt SF    0.083904  0.016678 -0.010405   0.632280  \n",
      "1st Flr SF       0.093003  0.040496 -0.013667   0.621676  \n",
      "2nd Flr SF      -0.005078  0.013247 -0.018530   0.269373  \n",
      "Low Qual Fin SF -0.005939  0.011397 -0.002074  -0.037660  \n",
      "Gr Liv Area      0.067252  0.043665 -0.026489   0.706780  \n",
      "Bsmt Full Bath  -0.004868 -0.003471  0.044905   0.276050  \n",
      "Bsmt Half Bath   0.036982  0.022699 -0.019529  -0.035835  \n",
      "Full Bath       -0.009771  0.046032 -0.004754   0.545604  \n",
      "Half Bath        0.026648 -0.001311  0.001561   0.285056  \n",
      "Bedroom AbvGr    0.000887  0.053677 -0.018008   0.143913  \n",
      "Kitchen AbvGr    0.025145  0.035201  0.035421  -0.119814  \n",
      "TotRms AbvGrd    0.061134  0.043784 -0.030498   0.495474  \n",
      "Fireplaces       0.008192  0.032152 -0.007612   0.474558  \n",
      "Garage Yr Blt   -0.009265  0.024498 -0.005159   0.526965  \n",
      "Garage Cars     -0.016948  0.049847 -0.022488   0.647877  \n",
      "Garage Area      0.008466  0.039544 -0.013018   0.640401  \n",
      "Wood Deck SF     0.056820  0.016974  0.000882   0.327143  \n",
      "Open Porch SF    0.077254  0.033651 -0.037467   0.312951  \n",
      "Enclosed Porch   0.008773 -0.021324 -0.000505  -0.128787  \n",
      "3Ssn Porch      -0.000753  0.027229  0.022668   0.032225  \n",
      "Screen Porch     0.007162  0.028169 -0.006116   0.112151  \n",
      "Pool Area        0.011942 -0.042223 -0.052541   0.068403  \n",
      "Misc Val         1.000000  0.007333  0.008574  -0.015691  \n",
      "Mo Sold          0.007333  1.000000 -0.155554   0.035259  \n",
      "Yr Sold          0.008574 -0.155554  1.000000  -0.030569  \n",
      "SalePrice       -0.015691  0.035259 -0.030569   1.000000  \n",
      "\n",
      "[39 rows x 39 columns]\n"
     ]
    }
   ],
   "source": [
    "print(corr_matrix)"
   ]
  },
  {
   "cell_type": "code",
   "execution_count": 46,
   "id": "1b101032",
   "metadata": {},
   "outputs": [
    {
     "name": "stdout",
     "output_type": "stream",
     "text": [
      "Order and Yr Sold: -0.98\n",
      "Overall Qual and SalePrice: 0.80\n",
      "Year Built and Garage Yr Blt: 0.83\n",
      "Total Bsmt SF and 1st Flr SF: 0.80\n",
      "1st Flr SF and Total Bsmt SF: 0.80\n",
      "Gr Liv Area and TotRms AbvGrd: 0.81\n",
      "TotRms AbvGrd and Gr Liv Area: 0.81\n",
      "Garage Yr Blt and Year Built: 0.83\n",
      "Garage Cars and Garage Area: 0.89\n",
      "Garage Area and Garage Cars: 0.89\n",
      "Yr Sold and Order: -0.98\n",
      "SalePrice and Overall Qual: 0.80\n"
     ]
    }
   ],
   "source": [
    "#correaltion matrix which calculates the pearson indice for numerical data\n",
    "\n",
    "\n",
    "for x in corr_matrix:\n",
    "    for y in corr_matrix:\n",
    "        corr=corr_matrix[x][y]\n",
    "        if 0.75<corr<1 or -1<corr<-0.75:\n",
    "            print(f\"{x} and {y}: {corr_matrix[x][y]:.2f}\")"
   ]
  },
  {
   "cell_type": "code",
   "execution_count": 47,
   "id": "cecb3d32",
   "metadata": {},
   "outputs": [
    {
     "data": {
      "text/html": [
       "<div>\n",
       "<style scoped>\n",
       "    .dataframe tbody tr th:only-of-type {\n",
       "        vertical-align: middle;\n",
       "    }\n",
       "\n",
       "    .dataframe tbody tr th {\n",
       "        vertical-align: top;\n",
       "    }\n",
       "\n",
       "    .dataframe thead th {\n",
       "        text-align: right;\n",
       "    }\n",
       "</style>\n",
       "<table border=\"1\" class=\"dataframe\">\n",
       "  <thead>\n",
       "    <tr style=\"text-align: right;\">\n",
       "      <th></th>\n",
       "      <th>Order</th>\n",
       "      <th>PID</th>\n",
       "      <th>MS SubClass</th>\n",
       "      <th>MS Zoning</th>\n",
       "      <th>Lot Frontage</th>\n",
       "      <th>Lot Area</th>\n",
       "      <th>Street</th>\n",
       "      <th>Lot Shape</th>\n",
       "      <th>Land Contour</th>\n",
       "      <th>Utilities</th>\n",
       "      <th>...</th>\n",
       "      <th>Enclosed Porch</th>\n",
       "      <th>3Ssn Porch</th>\n",
       "      <th>Screen Porch</th>\n",
       "      <th>Pool Area</th>\n",
       "      <th>Misc Val</th>\n",
       "      <th>Mo Sold</th>\n",
       "      <th>Yr Sold</th>\n",
       "      <th>Sale Type</th>\n",
       "      <th>Sale Condition</th>\n",
       "      <th>SalePrice</th>\n",
       "    </tr>\n",
       "  </thead>\n",
       "  <tbody>\n",
       "    <tr>\n",
       "      <th>0</th>\n",
       "      <td>1</td>\n",
       "      <td>526301100</td>\n",
       "      <td>20</td>\n",
       "      <td>RL</td>\n",
       "      <td>141.0</td>\n",
       "      <td>31770</td>\n",
       "      <td>Pave</td>\n",
       "      <td>IR1</td>\n",
       "      <td>Lvl</td>\n",
       "      <td>AllPub</td>\n",
       "      <td>...</td>\n",
       "      <td>0</td>\n",
       "      <td>0</td>\n",
       "      <td>0</td>\n",
       "      <td>0</td>\n",
       "      <td>0</td>\n",
       "      <td>5</td>\n",
       "      <td>2010</td>\n",
       "      <td>WD</td>\n",
       "      <td>Normal</td>\n",
       "      <td>215000</td>\n",
       "    </tr>\n",
       "    <tr>\n",
       "      <th>1</th>\n",
       "      <td>2</td>\n",
       "      <td>526350040</td>\n",
       "      <td>20</td>\n",
       "      <td>RH</td>\n",
       "      <td>80.0</td>\n",
       "      <td>11622</td>\n",
       "      <td>Pave</td>\n",
       "      <td>Reg</td>\n",
       "      <td>Lvl</td>\n",
       "      <td>AllPub</td>\n",
       "      <td>...</td>\n",
       "      <td>0</td>\n",
       "      <td>0</td>\n",
       "      <td>120</td>\n",
       "      <td>0</td>\n",
       "      <td>0</td>\n",
       "      <td>6</td>\n",
       "      <td>2010</td>\n",
       "      <td>WD</td>\n",
       "      <td>Normal</td>\n",
       "      <td>105000</td>\n",
       "    </tr>\n",
       "    <tr>\n",
       "      <th>2</th>\n",
       "      <td>3</td>\n",
       "      <td>526351010</td>\n",
       "      <td>20</td>\n",
       "      <td>RL</td>\n",
       "      <td>81.0</td>\n",
       "      <td>14267</td>\n",
       "      <td>Pave</td>\n",
       "      <td>IR1</td>\n",
       "      <td>Lvl</td>\n",
       "      <td>AllPub</td>\n",
       "      <td>...</td>\n",
       "      <td>0</td>\n",
       "      <td>0</td>\n",
       "      <td>0</td>\n",
       "      <td>0</td>\n",
       "      <td>12500</td>\n",
       "      <td>6</td>\n",
       "      <td>2010</td>\n",
       "      <td>WD</td>\n",
       "      <td>Normal</td>\n",
       "      <td>172000</td>\n",
       "    </tr>\n",
       "    <tr>\n",
       "      <th>3</th>\n",
       "      <td>4</td>\n",
       "      <td>526353030</td>\n",
       "      <td>20</td>\n",
       "      <td>RL</td>\n",
       "      <td>93.0</td>\n",
       "      <td>11160</td>\n",
       "      <td>Pave</td>\n",
       "      <td>Reg</td>\n",
       "      <td>Lvl</td>\n",
       "      <td>AllPub</td>\n",
       "      <td>...</td>\n",
       "      <td>0</td>\n",
       "      <td>0</td>\n",
       "      <td>0</td>\n",
       "      <td>0</td>\n",
       "      <td>0</td>\n",
       "      <td>4</td>\n",
       "      <td>2010</td>\n",
       "      <td>WD</td>\n",
       "      <td>Normal</td>\n",
       "      <td>244000</td>\n",
       "    </tr>\n",
       "    <tr>\n",
       "      <th>4</th>\n",
       "      <td>5</td>\n",
       "      <td>527105010</td>\n",
       "      <td>60</td>\n",
       "      <td>RL</td>\n",
       "      <td>74.0</td>\n",
       "      <td>13830</td>\n",
       "      <td>Pave</td>\n",
       "      <td>IR1</td>\n",
       "      <td>Lvl</td>\n",
       "      <td>AllPub</td>\n",
       "      <td>...</td>\n",
       "      <td>0</td>\n",
       "      <td>0</td>\n",
       "      <td>0</td>\n",
       "      <td>0</td>\n",
       "      <td>0</td>\n",
       "      <td>3</td>\n",
       "      <td>2010</td>\n",
       "      <td>WD</td>\n",
       "      <td>Normal</td>\n",
       "      <td>189900</td>\n",
       "    </tr>\n",
       "  </tbody>\n",
       "</table>\n",
       "<p>5 rows × 78 columns</p>\n",
       "</div>"
      ],
      "text/plain": [
       "   Order        PID  MS SubClass MS Zoning  Lot Frontage  Lot Area Street  \\\n",
       "0      1  526301100           20        RL         141.0     31770   Pave   \n",
       "1      2  526350040           20        RH          80.0     11622   Pave   \n",
       "2      3  526351010           20        RL          81.0     14267   Pave   \n",
       "3      4  526353030           20        RL          93.0     11160   Pave   \n",
       "4      5  527105010           60        RL          74.0     13830   Pave   \n",
       "\n",
       "  Lot Shape Land Contour Utilities  ... Enclosed Porch 3Ssn Porch  \\\n",
       "0       IR1          Lvl    AllPub  ...              0          0   \n",
       "1       Reg          Lvl    AllPub  ...              0          0   \n",
       "2       IR1          Lvl    AllPub  ...              0          0   \n",
       "3       Reg          Lvl    AllPub  ...              0          0   \n",
       "4       IR1          Lvl    AllPub  ...              0          0   \n",
       "\n",
       "  Screen Porch Pool Area Misc Val Mo Sold Yr Sold  Sale Type  Sale Condition  \\\n",
       "0            0         0        0       5    2010        WD           Normal   \n",
       "1          120         0        0       6    2010        WD           Normal   \n",
       "2            0         0    12500       6    2010        WD           Normal   \n",
       "3            0         0        0       4    2010        WD           Normal   \n",
       "4            0         0        0       3    2010        WD           Normal   \n",
       "\n",
       "   SalePrice  \n",
       "0     215000  \n",
       "1     105000  \n",
       "2     172000  \n",
       "3     244000  \n",
       "4     189900  \n",
       "\n",
       "[5 rows x 78 columns]"
      ]
     },
     "execution_count": 47,
     "metadata": {},
     "output_type": "execute_result"
    }
   ],
   "source": [
    "localCopy.head()"
   ]
  },
  {
   "cell_type": "code",
   "execution_count": 48,
   "id": "7edcdb37",
   "metadata": {},
   "outputs": [
    {
     "name": "stdout",
     "output_type": "stream",
     "text": [
      "1341   NaN\n",
      "Name: BsmtFin SF 1, dtype: float64\n",
      "1341   NaN\n",
      "Name: BsmtFin SF 2, dtype: float64\n",
      "1341   NaN\n",
      "Name: Bsmt Unf SF, dtype: float64\n",
      "1341   NaN\n",
      "Name: Total Bsmt SF, dtype: float64\n",
      "1577    NaN\n",
      "Name: Electrical, dtype: object\n",
      "1341   NaN\n",
      "1497   NaN\n",
      "Name: Bsmt Full Bath, dtype: float64\n",
      "1341   NaN\n",
      "1497   NaN\n",
      "Name: Bsmt Half Bath, dtype: float64\n",
      "2236   NaN\n",
      "Name: Garage Cars, dtype: float64\n",
      "2236   NaN\n",
      "Name: Garage Area, dtype: float64\n"
     ]
    }
   ],
   "source": [
    "#maybe we find a row with NaN so we can delete it\n",
    "\n",
    "for i in localCopy:\n",
    "    if localCopy[i].isna().any():\n",
    "        count=localCopy[i].isna().sum()\n",
    "        # print(count)\n",
    "        if count<=20:\n",
    "            print(localCopy[localCopy[i].isna()][i])"
   ]
  },
  {
   "cell_type": "code",
   "execution_count": 49,
   "id": "61a1589d",
   "metadata": {},
   "outputs": [
    {
     "data": {
      "image/png": "[encoded data removed]",
      "text/plain": [
       "<Figure size 800x500 with 1 Axes>"
      ]
     },
     "metadata": {},
     "output_type": "display_data"
    }
   ],
   "source": [
    "localCopy.groupby('Yr Sold')['SalePrice'].mean().plot( marker='o',figsize=(8,5))\n",
    "plt.title('Average Sale Price per Year')\n",
    "plt.xlabel('Year Sold')\n",
    "plt.ylabel('Average Sale Price ($)')\n",
    "plt.grid(True)\n",
    "plt.show()\n"
   ]
  },
  {
   "cell_type": "code",
   "execution_count": 50,
   "id": "baa1b74e",
   "metadata": {},
   "outputs": [
    {
     "name": "stdout",
     "output_type": "stream",
     "text": [
      "success\n"
     ]
    }
   ],
   "source": [
    "#dropping the PID , Order Column\n",
    "# Yr Sold, Sale Price, Year Built, Total Bsmt SF, Gr Liv Area because they have a high correlation with other features, we are gonna keep them \n",
    "#and delete the others\n",
    "\n",
    "localCopy.drop(columns=['PID','Order','Overall Qual', 'Garage Yr Blt', '1st Flr SF','TotRms AbvGrd', 'Garage Cars'],inplace=True)\n",
    "print(\"success\")"
   ]
  },
  {
   "cell_type": "code",
   "execution_count": 51,
   "id": "0a575be6",
   "metadata": {},
   "outputs": [],
   "source": [
    "localCopy.drop(index=[1341,1497,1577,2236],inplace=True)"
   ]
  },
  {
   "cell_type": "code",
   "execution_count": 52,
   "id": "aeb1b030",
   "metadata": {},
   "outputs": [
    {
     "name": "stdout",
     "output_type": "stream",
     "text": [
      "Kurtosis: 11.209383611804348, Lot Frontage\n",
      "Skewness: 12.814333637733153, Lot Area\n",
      "Kurtosis: 264.5695807401821, Lot Area\n",
      "Skewness: 2.6056393984991546, Mas Vnr Area\n",
      "Kurtosis: 9.268605596399837, Mas Vnr Area\n",
      "Kurtosis: 6.845533327504242, BsmtFin SF 1\n",
      "Skewness: 4.137858005790364, BsmtFin SF 2\n",
      "Kurtosis: 18.74738763850157, BsmtFin SF 2\n",
      "Kurtosis: 9.117976899115018, Total Bsmt SF\n",
      "Kurtosis: 6.954874962395786, 1st Flr SF\n",
      "Skewness: 12.111956844115396, Low Qual Fin SF\n",
      "Kurtosis: 175.30537502549996, Low Qual Fin SF\n",
      "Kurtosis: 4.128733326079618, Gr Liv Area\n",
      "Skewness: 3.9387763268408165, Bsmt Half Bath\n",
      "Kurtosis: 14.894222917953858, Bsmt Half Bath\n",
      "Skewness: 4.311615838595926, Kitchen AbvGr\n",
      "Kurtosis: 19.83380478856079, Kitchen AbvGr\n",
      "Kurtosis: 6.740388139592321, Wood Deck SF\n",
      "Skewness: 2.5340877554403782, Open Porch SF\n",
      "Kurtosis: 10.933611729227085, Open Porch SF\n",
      "Skewness: 4.012390205634154, Enclosed Porch\n",
      "Kurtosis: 28.436568257643188, Enclosed Porch\n",
      "Skewness: 11.39795591155961, 3Ssn Porch\n",
      "Kurtosis: 149.73082304155773, 3Ssn Porch\n",
      "Skewness: 3.955441025871492, Screen Porch\n",
      "Kurtosis: 17.826641422127043, Screen Porch\n",
      "Skewness: 16.930469347882216, Pool Area\n",
      "Kurtosis: 299.2615798930763, Pool Area\n",
      "Skewness: 21.988523324296214, Misc Val\n",
      "Kurtosis: 565.2354955589574, Misc Val\n",
      "Kurtosis: 5.108121716933333, SalePrice\n"
     ]
    }
   ],
   "source": [
    "#skewness and kurtosis for numerical data\n",
    "\n",
    "\n",
    "for col in numerical_data:\n",
    "    sk=skew(numerical_data[col],nan_policy='omit')\n",
    "    kr=kurtosis(numerical_data[col],nan_policy='omit')\n",
    "    if abs(sk)>2:\n",
    "        print(f\"Skewness: {sk}, {col}\")\n",
    "    if abs(kr)>3:\n",
    "        print(f\"Kurtosis: {kr}, {col}\")"
   ]
  },
  {
   "cell_type": "code",
   "execution_count": 53,
   "id": "2c084880",
   "metadata": {},
   "outputs": [],
   "source": [
    "#spearmann correlation between ordinal features, resulted in no correlation between ordinal features\n",
    "ordinal_list=list(ordinal_maps)\n",
    "for i,x in enumerate(ordinal_list):\n",
    "    for y in ordinal_list[i+1:]:\n",
    "        correlation=spearmanr(localCopy[x],localCopy[y])[0]\n",
    "        if 0.75<correlation or correlation<-0.75:\n",
    "            print(f\"{x} and {y}: {correlation}\")"
   ]
  },
  {
   "cell_type": "code",
   "execution_count": 54,
   "id": "661655d4",
   "metadata": {},
   "outputs": [
    {
     "data": {
      "text/plain": [
       "Sale Type\n",
       "Oth      114920.142857\n",
       "ConLw    121937.500000\n",
       "ConLD    127618.120000\n",
       "COD      132248.287356\n",
       "VWD      137000.000000\n",
       "WD       174330.343071\n",
       "ConLI    180105.555556\n",
       "CWD      184237.500000\n",
       "Con      224446.000000\n",
       "New      275751.309623\n",
       "Name: SalePrice, dtype: float64"
      ]
     },
     "execution_count": 54,
     "metadata": {},
     "output_type": "execute_result"
    }
   ],
   "source": [
    "localCopy.groupby('Sale Type')['SalePrice'].mean().sort_values()\n"
   ]
  },
  {
   "cell_type": "code",
   "execution_count": null,
   "id": "9f84fdee",
   "metadata": {},
   "outputs": [
    {
     "name": "stdout",
     "output_type": "stream",
     "text": [
      "1.5019163426710014\n"
     ]
    }
   ],
   "source": [
    "sk=skew(localCopy['Lot Frontage'],nan_policy='omit')\n",
    "print(sk)\n"
   ]
  },
  {
   "cell_type": "code",
   "execution_count": null,
   "id": "ad874492",
   "metadata": {},
   "outputs": [
    {
     "name": "stdout",
     "output_type": "stream",
     "text": [
      "-1.18809796140707\n"
     ]
    }
   ],
   "source": [
    "#transformed the right skewed feature into a slight left skewed feature\n",
    "\n",
    "localCopy['Lot Frontage'] = np.log1p(localCopy['Lot Frontage'])\n",
    "sk=skew(localCopy['Lot Frontage'],nan_policy='omit')\n",
    "print(sk)\n"
   ]
  },
  {
   "cell_type": "code",
   "execution_count": null,
   "id": "c705c5b2",
   "metadata": {},
   "outputs": [
    {
     "name": "stdout",
     "output_type": "stream",
     "text": [
      "\n"
     ]
    }
   ],
   "source": [
    "#transformed Lot Area from 12 right skewed , to -0.5 left skewed\n",
    "\n",
    "localCopy['Lot Area'] = np.log1p(localCopy['Lot Area'])\n",
    "sk=skew(localCopy['Lot Area'],nan_policy='omit')\n"
   ]
  },
  {
   "cell_type": "code",
   "execution_count": 66,
   "id": "e9c36c34",
   "metadata": {},
   "outputs": [
    {
     "name": "stdout",
     "output_type": "stream",
     "text": [
      "Coloana: Mas Vnr Area - old skew:2.603491982924756\n",
      "New skewness: 0.5264593607636521\n",
      "Coloana: BsmtFin SF 2 - old skew:4.135410329257939\n",
      "New skewness: 2.4466341889767427\n",
      "Coloana: Low Qual Fin SF - old skew:12.103527135147226\n",
      "New skewness: 8.568361293635881\n",
      "Coloana: Bsmt Half Bath - old skew:3.93718133741119\n",
      "New skewness: 3.7801965849020207\n",
      "Coloana: Kitchen AbvGr - old skew:4.3082140011430115\n",
      "New skewness: 3.5254820902756743\n",
      "Coloana: Open Porch SF - old skew:2.52933331628121\n",
      "New skewness: -0.048250527296802785\n",
      "Coloana: Enclosed Porch - old skew:4.0215428942506435\n",
      "New skewness: 1.968726950467564\n",
      "Coloana: 3Ssn Porch - old skew:11.390000331552061\n",
      "New skewness: 8.836234926770304\n",
      "Coloana: Screen Porch - old skew:3.9522623903942686\n",
      "New skewness: 2.950574273376792\n",
      "Coloana: Pool Area - old skew:16.918788619044786\n",
      "New skewness: 15.01654640609462\n",
      "Coloana: Misc Val - old skew:21.973503763808235\n",
      "New skewness: 5.220904357990912\n"
     ]
    }
   ],
   "source": [
    "numerical_data=localCopy.select_dtypes(include=['int64','float64'])\n",
    "\n",
    "\n",
    "for col in numerical_data:\n",
    "    sk=skew(localCopy[col],nan_policy='omit')\n",
    "    if sk>2:\n",
    "        print(f\"Coloana: {col} - old skew:{sk}\")\n",
    "        localCopy[col] = np.log1p(localCopy[col])\n",
    "        sk_new=skew(localCopy[col],nan_policy='omit')\n",
    "        print(f\"New skewness: {sk_new}\")\n"
   ]
  },
  {
   "cell_type": "code",
   "execution_count": null,
   "id": "afe35d03",
   "metadata": {},
   "outputs": [],
   "source": [
    "#checking whether the columns contain negative values or not to know if we can use log\n",
    "\n",
    "\n",
    "for col in numerical_data.columns:\n",
    "    if (localCopy[col]<0).any():\n",
    "        print(f\"{col} contains negative values\")"
   ]
  },
  {
   "cell_type": "code",
   "execution_count": 68,
   "id": "a32739c3",
   "metadata": {},
   "outputs": [
    {
     "name": "stdout",
     "output_type": "stream",
     "text": [
      "Mas Vnr Area contains 1744 0 values\n",
      "BsmtFin SF 1 contains 928 0 values\n",
      "BsmtFin SF 2 contains 2575 0 values\n",
      "Bsmt Unf SF contains 243 0 values\n",
      "Total Bsmt SF contains 78 0 values\n",
      "2nd Flr SF contains 1676 0 values\n",
      "Low Qual Fin SF contains 2886 0 values\n",
      "Bsmt Full Bath contains 1705 0 values\n",
      "Bsmt Half Bath contains 2751 0 values\n",
      "Full Bath contains 12 0 values\n",
      "Half Bath contains 1841 0 values\n",
      "Bedroom AbvGr contains 8 0 values\n",
      "Kitchen AbvGr contains 3 0 values\n",
      "Fireplaces contains 1419 0 values\n",
      "Garage Area contains 157 0 values\n",
      "Wood Deck SF contains 1524 0 values\n",
      "Open Porch SF contains 1297 0 values\n",
      "Enclosed Porch contains 2468 0 values\n",
      "3Ssn Porch contains 2889 0 values\n",
      "Screen Porch contains 2670 0 values\n",
      "Pool Area contains 2913 0 values\n",
      "Misc Val contains 2823 0 values\n"
     ]
    }
   ],
   "source": [
    "#checking \n",
    "for col in numerical_data.columns:\n",
    "    zero_count=(localCopy[col]==0).sum()\n",
    "    if zero_count>0:\n",
    "        print(f\"{col} contains {zero_count} 0 values\")"
   ]
  }
 ],
 "metadata": {
  "kernelspec": {
   "display_name": "venv_lab_ml",
   "language": "python",
   "name": "python3"
  },
  "language_info": {
   "codemirror_mode": {
    "name": "ipython",
    "version": 3
   },
   "file_extension": ".py",
   "mimetype": "text/x-python",
   "name": "python",
   "nbconvert_exporter": "python",
   "pygments_lexer": "ipython3",
   "version": "3.13.9"
  }
 },
 "nbformat": 4,
 "nbformat_minor": 5
}
