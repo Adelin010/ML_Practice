{
 "cells": [
  {
   "cell_type": "code",
   "execution_count": null,
   "id": "184f57a2",
   "metadata": {},
   "outputs": [],
   "source": [
    "# imports \n",
    "import pandas as pd\n",
    "import numpy as np \n",
    "import seaborn as sbs\n",
    "import matplotlib.pyplot as plt\n",
    "from pandas.api.types import is_numeric_dtype"
   ]
  },
  {
   "cell_type": "code",
   "execution_count": null,
   "id": "fca5c498",
   "metadata": {},
   "outputs": [],
   "source": [
    "dataset = pd.read_csv('AmesHousing.csv', sep='\\t')\n",
    "dataset.head()"
   ]
  },
  {
   "cell_type": "code",
   "execution_count": null,
   "id": "49b4f200",
   "metadata": {},
   "outputs": [],
   "source": [
    "dataset.info()"
   ]
  },
  {
   "cell_type": "code",
   "execution_count": null,
   "id": "9ec30abe",
   "metadata": {},
   "outputs": [],
   "source": [
    "dataset.shape"
   ]
  },
  {
   "cell_type": "code",
   "execution_count": null,
   "id": "100dac7b",
   "metadata": {},
   "outputs": [],
   "source": [
    "# save the postprocessed dataset \n",
    "\n",
    "# postdataset = dataset\n",
    "# # drop the Alley column (axis = 0 -> row | axis = 1 -> column)\n",
    "# postdataset.drop(columns=['Alley'], axis=1)\n",
    "\n",
    "length: int = 0\n",
    "col_nonnull = []\n",
    "for column in dataset:\n",
    "    if column == \"Order\":\n",
    "        length = len(dataset[column])\n",
    "    else:\n",
    "        nonnull_vals = dataset[column].dropna().shape[0]\n",
    "        if(length != nonnull_vals):\n",
    "            col_nonnull.append((column, length-nonnull_vals))\n",
    "\n",
    "\n",
    "print(col_nonnull)\n",
    "        "
   ]
  },
  {
   "cell_type": "code",
   "execution_count": null,
   "id": "263d327d",
   "metadata": {},
   "outputs": [],
   "source": []
  },
  {
   "cell_type": "code",
   "execution_count": null,
   "id": "0dc23a77",
   "metadata": {},
   "outputs": [],
   "source": [
    "mask = dataset[\"Alley\"].notnull()\n",
    "dataset[\"Alley\"].where(mask).dropna().shape[0]"
   ]
  },
  {
   "cell_type": "code",
   "execution_count": null,
   "id": "3b21a8ca",
   "metadata": {},
   "outputs": [],
   "source": [
    "# plot the pair of columns for liniarity\n",
    "\n",
    "def verif_num(col1: str, col2: str)-> bool:\n",
    "    return is_numeric_dtype(dataset[col1]) and is_numeric_dtype(dataset[col2]) and col1 != col2\n",
    "\n",
    "cols = list(dataset.columns)\n",
    "for col1 in cols[2:]:\n",
    "    for col2 in cols[2:]:\n",
    "        if verif_num(col1, col2):\n",
    "            sbs.regplot(data=dataset[[col1, col2]], x=col1, y= col2)\n",
    "            plt.show()\n",
    "\n",
    "\n",
    "# what to consider for working home: \n",
    "#  1. get rid of those non liniar plots \n",
    "#  2. resize some of the plots so that the scale is more meanningful \n",
    "#  3. reason the logic of the correlation of the features \n",
    "#  (what the reasoning means: if the features are categorical but encoded as numbers)\n",
    "#  : if the pair has nothing to do with each other"
   ]
  },
  {
   "cell_type": "code",
   "execution_count": null,
   "id": "61f85c55",
   "metadata": {},
   "outputs": [],
   "source": []
  }
 ],
 "metadata": {
  "kernelspec": {
   "display_name": "venv",
   "language": "python",
   "name": "python3"
  },
  "language_info": {
   "codemirror_mode": {
    "name": "ipython",
    "version": 3
   },
   "file_extension": ".py",
   "mimetype": "text/x-python",
   "name": "python",
   "nbconvert_exporter": "python",
   "pygments_lexer": "ipython3",
   "version": "3.12.3"
  }
 },
 "nbformat": 4,
 "nbformat_minor": 5
}
